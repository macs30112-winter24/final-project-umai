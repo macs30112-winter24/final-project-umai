{
 "cells": [
  {
   "cell_type": "code",
   "execution_count": 1,
   "metadata": {},
   "outputs": [],
   "source": [
    "# setup for dynamic scraping\n",
    "import time\n",
    "import pandas as pd\n",
    "from selenium import webdriver\n",
    "from bs4 import BeautifulSoup\n",
    "from selenium.webdriver.common.by import By\n",
    "from selenium.webdriver.support.ui import WebDriverWait\n",
    "from selenium.webdriver.support import expected_conditions as EC"
   ]
  },
  {
   "cell_type": "code",
   "execution_count": 2,
   "metadata": {},
   "outputs": [],
   "source": [
    "# driver = webdriver.Chrome('chromedriver')\n",
    "cService = webdriver.ChromeService(executable_path='/Users/lixuewei/Desktop/MACS30112/4/chromedriver-mac-arm64/chromedriver')\n",
    "driver = webdriver.Chrome(service=cService)\n",
    "driver.get(\"https://www.arcgis.com/apps/dashboards/7846c3c37dff4728923609a9f55f849c\")\n",
    "wait = WebDriverWait(driver, 5) # explicit wait for a time period   "
   ]
  },
  {
   "cell_type": "code",
   "execution_count": null,
   "metadata": {},
   "outputs": [],
   "source": [
    "# Zoom out\n",
    "zoom_out_buttom = driver.find_element(By.XPATH, '/html/body/div/calcite-shell/div[2]/div[2]/div/div/div/margin-container/full-container/div[5]/margin-container/full-container/dashboard-tab-zone/section/div/div/div/div[3]/div/div[4]/div/div[2]')\n",
    "for _ in range(9):\n",
    "    zoom_out_buttom.click()\n",
    "    time.sleep(0.5)"
   ]
  },
  {
   "cell_type": "code",
   "execution_count": null,
   "metadata": {},
   "outputs": [],
   "source": [
    "def scrape_and_collect_data(driver, num_pages):\n",
    "    \"\"\"\n",
    "    Scrapes data from a table over multiple pages and returns a list of lists.\n",
    "\n",
    "    Args:\n",
    "        driver: A Selenium webdriver instance.\n",
    "        num_pages: The number of pages to scrape.\n",
    "\n",
    "    Returns:\n",
    "        A list of lists, where each inner list represents the poverty data from one page.\n",
    "    \"\"\"    \n",
    "    data_all_pages = []\n",
    "\n",
    "    for _ in range(num_pages):\n",
    "        # Get HTML source code\n",
    "        html = driver.page_source\n",
    "        soup = BeautifulSoup(html, 'html.parser')\n",
    "\n",
    "        # Wait for the table data to be present\n",
    "        wait = WebDriverWait(driver, 10)\n",
    "        poverty_tds = wait.until(EC.presence_of_all_elements_located((By.TAG_NAME, 'td'))) \n",
    "\n",
    "        # Extract poverty data \n",
    "        poverty_tds = soup.findAll(\"td\")\n",
    "        poverty_values = [td.text for td in poverty_tds]\n",
    "\n",
    "        # Store data for the current page\n",
    "        data_all_pages.append(poverty_values)\n",
    "\n",
    "        # Click the next page button (if it exists)\n",
    "        try:\n",
    "            next_page_button = driver.find_element(By.XPATH, '/html/body/div/calcite-shell/div[2]/div[2]/div/div/div/margin-container/full-container/div[6]/margin-container/full-container/dashboard-tab-zone/section/div/div[3]/calcite-action')\n",
    "            next_page_button.click()\n",
    "\n",
    "        except Exception:  # Handle potential errors if the button isn't found\n",
    "            print(f\"Page navigation may have finished. Collected data from {len(data_all_pages)} pages.\")\n",
    "            break\n",
    "\n",
    "    return data_all_pages"
   ]
  },
  {
   "cell_type": "code",
   "execution_count": null,
   "metadata": {},
   "outputs": [],
   "source": [
    "LA_county_poverty = scrape_and_collect_data(driver, num_pages=348)\n",
    "driver.quit() \n",
    "print(LA_county_poverty)"
   ]
  },
  {
   "cell_type": "code",
   "execution_count": null,
   "metadata": {},
   "outputs": [],
   "source": [
    "# Filter Non-LA Communities\n",
    "LA_city_poverty = []\n",
    "for row in LA_county_poverty:\n",
    "    if row[4] == 'Los Angeles City':\n",
    "        LA_city_poverty.append({\n",
    "            \"community\": row[0],\n",
    "            \"2020poverty_rate\": row[3],\n",
    "            \"city\": row[4]\n",
    "        })"
   ]
  },
  {
   "cell_type": "code",
   "execution_count": null,
   "metadata": {},
   "outputs": [],
   "source": [
    "# Create the DataFrame\n",
    "df = pd.DataFrame(LA_city_poverty)\n",
    "df.to_csv('LA_PovertyRate.csv', index = False)"
   ]
  },
  {
   "cell_type": "code",
   "execution_count": 15,
   "metadata": {},
   "outputs": [],
   "source": [
    "# Combine the poverty rate of communities in the three cities\n",
    "def convert_percent_to_float(value):\n",
    "    return float(value.strip('%'))\n",
    "\n",
    "# New York\n",
    "nyc = pd.read_csv('nyc.csv')\n",
    "nyc['poverty_rate'] = nyc['poverty_rate'].apply(convert_percent_to_float)\n",
    "nyc_poverty = nyc[nyc['poverty_rate'] >= 20]\n",
    "nyc_poverty = nyc_poverty.iloc[:, [0, 4]]\n",
    "nyc_poverty.columns = ['community', 'poverty.rate']\n",
    "nyc_poverty['city'] = 'New York City'\n",
    "nyc_poverty.to_csv('nyc_poverty.csv', index=False)"
   ]
  },
  {
   "cell_type": "code",
   "execution_count": 36,
   "metadata": {},
   "outputs": [
    {
     "name": "stdout",
     "output_type": "stream",
     "text": [
      "   community  poverty.rate           city\n",
      "1         BX          26.4  New York City\n",
      "6      BX 01          36.6  New York City\n",
      "7      BX 02          36.6  New York City\n",
      "8      BX 03          35.8  New York City\n",
      "9      BX 04          28.3  New York City\n",
      "10     BX 05          33.7  New York City\n",
      "11     BX 06          35.8  New York City\n",
      "12     BX 07          27.1  New York City\n",
      "14     BX 09          26.7  New York City\n",
      "20     BK 03          24.2  New York City\n",
      "21     BK 04          24.2  New York City\n",
      "24     BK 07          22.9  New York City\n",
      "26     BK 09          22.4  New York City\n",
      "28     BK 11          23.1  New York City\n",
      "29     BK 12          23.8  New York City\n",
      "30     BK 13          24.1  New York City\n",
      "33     BK 16          28.8  New York City\n",
      "38     MN 03          24.2  New York City\n",
      "44     MN 09          25.3  New York City\n",
      "45     MN 10          28.4  New York City\n",
      "46     MN 11          31.2  New York City\n",
      "47     MN 12          21.0  New York City\n",
      "61     QN 14          23.8  New York City\n"
     ]
    },
    {
     "data": {
      "text/plain": [
       "23"
      ]
     },
     "execution_count": 36,
     "metadata": {},
     "output_type": "execute_result"
    }
   ],
   "source": [
    "print(nyc_poverty)\n",
    "len(nyc_poverty)"
   ]
  },
  {
   "cell_type": "code",
   "execution_count": 27,
   "metadata": {},
   "outputs": [
    {
     "name": "stderr",
     "output_type": "stream",
     "text": [
      "/var/folders/v5/_k1rjg593hq_kwrd_bnrs0xr0000gn/T/ipykernel_61398/2449788106.py:6: SettingWithCopyWarning: \n",
      "A value is trying to be set on a copy of a slice from a DataFrame.\n",
      "Try using .loc[row_indexer,col_indexer] = value instead\n",
      "\n",
      "See the caveats in the documentation: https://pandas.pydata.org/pandas-docs/stable/user_guide/indexing.html#returning-a-view-versus-a-copy\n",
      "  chi_poverty['city'] = 'Chicago'\n"
     ]
    }
   ],
   "source": [
    "# Chicago\n",
    "chi = pd.read_csv('chi.csv')\n",
    "chi['Poverty rate'] = chi['Poverty rate'].apply(convert_percent_to_float)\n",
    "chi_poverty = chi[chi['Poverty rate'] >= 20]\n",
    "chi_poverty.columns = ['community', 'poverty.rate']\n",
    "chi_poverty['city'] = 'Chicago'\n",
    "chi_poverty.to_csv('chi_poverty.csv', index=False)"
   ]
  },
  {
   "cell_type": "code",
   "execution_count": 35,
   "metadata": {},
   "outputs": [
    {
     "name": "stdout",
     "output_type": "stream",
     "text": [
      "                 community  poverty.rate     city\n",
      "0                Riverdale          51.0  Chicago\n",
      "1              Fuller Park          48.8  Chicago\n",
      "2          Washington Park          46.9  Chicago\n",
      "3       East Garfield Park          45.5  Chicago\n",
      "4                Englewood          40.0  Chicago\n",
      "5           North Lawndale          36.7  Chicago\n",
      "6   Greater Grand Crossing          34.5  Chicago\n",
      "7                  Oakland          33.6  Chicago\n",
      "8            South Deering          32.4  Chicago\n",
      "9           West Englewood          32.0  Chicago\n",
      "10      West Garfield Park          31.6  Chicago\n",
      "11             South Shore          31.2  Chicago\n",
      "12                 Douglas          30.6  Chicago\n",
      "13           South Chicago          30.3  Chicago\n",
      "14                New City          29.5  Chicago\n",
      "15                Woodlawn          29.0  Chicago\n",
      "16           Armour Square          26.2  Chicago\n",
      "17         Grand Boulevard          25.5  Chicago\n",
      "18          Auburn Gresham          25.3  Chicago\n",
      "19                  Austin          25.3  Chicago\n",
      "20                 Kenwood          24.4  Chicago\n",
      "21               Hyde Park          24.2  Chicago\n",
      "22           Humboldt Park          23.5  Chicago\n",
      "23          South Lawndale          23.4  Chicago\n",
      "24                 Chatham          23.3  Chicago\n",
      "25            West Pullman          23.3  Chicago\n",
      "26            Chicago Lawn          22.2  Chicago\n",
      "27           Brighton Park          21.8  Chicago\n",
      "28             Rogers Park          21.7  Chicago\n",
      "29                  Uptown          21.0  Chicago\n",
      "30                Roseland          21.0  Chicago\n"
     ]
    },
    {
     "data": {
      "text/plain": [
       "31"
      ]
     },
     "execution_count": 35,
     "metadata": {},
     "output_type": "execute_result"
    }
   ],
   "source": [
    "print(chi_poverty)\n",
    "len(chi_poverty)"
   ]
  },
  {
   "cell_type": "code",
   "execution_count": 26,
   "metadata": {},
   "outputs": [
    {
     "name": "stderr",
     "output_type": "stream",
     "text": [
      "/var/folders/v5/_k1rjg593hq_kwrd_bnrs0xr0000gn/T/ipykernel_61398/3115336818.py:4: SettingWithCopyWarning: \n",
      "A value is trying to be set on a copy of a slice from a DataFrame.\n",
      "Try using .loc[row_indexer,col_indexer] = value instead\n",
      "\n",
      "See the caveats in the documentation: https://pandas.pydata.org/pandas-docs/stable/user_guide/indexing.html#returning-a-view-versus-a-copy\n",
      "  la_poverty['community'] = la['community'].str[14:]\n",
      "/var/folders/v5/_k1rjg593hq_kwrd_bnrs0xr0000gn/T/ipykernel_61398/3115336818.py:5: SettingWithCopyWarning: \n",
      "A value is trying to be set on a copy of a slice from a DataFrame\n",
      "\n",
      "See the caveats in the documentation: https://pandas.pydata.org/pandas-docs/stable/user_guide/indexing.html#returning-a-view-versus-a-copy\n",
      "  la_poverty.rename(columns={'2020poverty_rate': 'poverty.rate'}, inplace=True)\n"
     ]
    }
   ],
   "source": [
    "# LA\n",
    "la = pd.read_csv('la.csv')\n",
    "la_poverty = la[la['2020poverty_rate'] >= 20]\n",
    "la_poverty['community'] = la['community'].str[14:]\n",
    "la_poverty.rename(columns={'2020poverty_rate': 'poverty.rate'}, inplace=True)\n",
    "la_poverty.to_csv('la_poverty.csv', index=False)"
   ]
  },
  {
   "cell_type": "code",
   "execution_count": 34,
   "metadata": {},
   "outputs": [
    {
     "name": "stdout",
     "output_type": "stream",
     "text": [
      "                community  poverty.rate              city\n",
      "3           Baldwin Hills         21.92  Los Angeles City\n",
      "7           Boyle Heights         23.97  Los Angeles City\n",
      "13                Central         25.79  Los Angeles City\n",
      "15     Century Palms/Cove         25.88  Los Angeles City\n",
      "18              Chinatown         27.61  Los Angeles City\n",
      "24               Downtown         25.99  Los Angeles City\n",
      "26         East Hollywood         20.42  Los Angeles City\n",
      "29           Elysian Park         20.35  Los Angeles City\n",
      "33        Exposition Park         25.93  Los Angeles City\n",
      "35   Figueroa Park Square         26.46  Los Angeles City\n",
      "36     Florence-Firestone         26.39  Los Angeles City\n",
      "40          Green Meadows         24.68  Los Angeles City\n",
      "46           Harvard Park         24.00  Los Angeles City\n",
      "51              Hyde Park         20.93  Los Angeles City\n",
      "52         Jefferson Park         23.87  Los Angeles City\n",
      "53              Koreatown         24.26  Los Angeles City\n",
      "59         Little Armenia         28.81  Los Angeles City\n",
      "61           Little Tokyo         40.87  Los Angeles City\n",
      "82             Pico-Union         30.67  Los Angeles City\n",
      "96             South Park         31.99  Los Angeles City\n",
      "104        Temple-Beaudry         23.90  Los Angeles City\n",
      "105             Thai Town         21.03  Los Angeles City\n",
      "111       University Park         45.04  Los Angeles City\n",
      "112           Valley Glen         20.28  Los Angeles City\n",
      "114              Van Nuys         20.42  Los Angeles City\n",
      "116        Vermont Knolls         27.94  Los Angeles City\n",
      "118         Vermont Vista         33.27  Los Angeles City\n",
      "119        Vernon Central         27.57  Los Angeles City\n",
      "120         Victoria Park         23.02  Los Angeles City\n",
      "122                 Watts         34.83  Los Angeles City\n",
      "124            West Adams         24.91  Los Angeles City\n",
      "127           West Vernon         23.63  Los Angeles City\n",
      "129              Westlake         34.30  Los Angeles City\n",
      "130              Westwood         27.59  Los Angeles City\n",
      "131    Wholesale District         36.73  Los Angeles City\n",
      "133       Wilshire Center         20.85  Los Angeles City\n",
      "136       Adams-Normandie         22.55  Los Angeles City\n"
     ]
    },
    {
     "data": {
      "text/plain": [
       "37"
      ]
     },
     "execution_count": 34,
     "metadata": {},
     "output_type": "execute_result"
    }
   ],
   "source": [
    "print(la_poverty)\n",
    "len(la_poverty)"
   ]
  },
  {
   "cell_type": "code",
   "execution_count": 33,
   "metadata": {},
   "outputs": [
    {
     "data": {
      "text/plain": [
       "91"
      ]
     },
     "execution_count": 33,
     "metadata": {},
     "output_type": "execute_result"
    }
   ],
   "source": [
    "# qualified communities in three cities\n",
    "all_poverty = pd.concat([nyc_poverty, chi_poverty, la_poverty], axis=0)\n",
    "all_poverty.to_csv('all_poverty.csv', index=False)\n",
    "#len(all_poverty)"
   ]
  }
 ],
 "metadata": {
  "kernelspec": {
   "display_name": "MACS30120TEST",
   "language": "python",
   "name": "python3"
  },
  "language_info": {
   "codemirror_mode": {
    "name": "ipython",
    "version": 3
   },
   "file_extension": ".py",
   "mimetype": "text/x-python",
   "name": "python",
   "nbconvert_exporter": "python",
   "pygments_lexer": "ipython3",
   "version": "3.11.5"
  },
  "orig_nbformat": 4
 },
 "nbformat": 4,
 "nbformat_minor": 2
}
