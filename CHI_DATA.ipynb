{
 "cells": [
  {
   "cell_type": "code",
   "execution_count": 1,
   "metadata": {},
   "outputs": [],
   "source": [
    "import numpy as np\n",
    "import pandas as pd\n",
    "import matplotlib.pyplot as plt\n",
    "import seaborn as sns"
   ]
  },
  {
   "cell_type": "code",
   "execution_count": 2,
   "metadata": {},
   "outputs": [
    {
     "data": {
      "text/plain": [
       "(6178, 34)"
      ]
     },
     "execution_count": 2,
     "metadata": {},
     "output_type": "execute_result"
    }
   ],
   "source": [
    "# Read the CSV file into a DataFrame\n",
    "CHI = pd.read_csv('CHI_DATA_INPUT.csv')\n",
    "\n",
    "# Check the shape of the dataFrame\n",
    "CHI.shape"
   ]
  },
  {
   "cell_type": "code",
   "execution_count": 3,
   "metadata": {},
   "outputs": [],
   "source": [
    "# Simplify feature names:\n",
    "CHI = CHI.rename(columns={'URL (SEE https://www.redfin.com/buy-a-home/comparative-market-analysis FOR INFO ON PRICING)': 'URL',\n",
    "                                   'STATE OR PROVINCE': 'STATE',\n",
    "                                   'ZIP OR POSTAL CODE': 'ZIP',\n",
    "                                   'SQUARE FEET': 'SQFT',\n",
    "                                   'PROPERTY TYPE': 'PROP_TYPE',\n",
    "                                   'LOT SIZE': 'LOT',\n",
    "                                   'YEAR BUILT': 'YR_BUILT',\n",
    "                                   '$/SQUARE FEET': 'PRICE_SQFT',\n",
    "                                   })"
   ]
  },
  {
   "cell_type": "code",
   "execution_count": 4,
   "metadata": {},
   "outputs": [],
   "source": [
    "selected = ['PROP_TYPE', 'ADDRESS', 'CITY', 'ZIP', 'PRICE', 'LOCATION', 'SQFT', 'YR_BUILT', 'MLS#', 'LATITUDE', 'LONGITUDE', 'PARK_DIST', 'HOSPITAL_D', 'RAIL_DIST', 'BUS_COUNTS', 'FnB_COUNTS']\n",
    "\n",
    "data_df = CHI[selected].copy(deep=True)"
   ]
  },
  {
   "cell_type": "markdown",
   "metadata": {},
   "source": []
  },
  {
   "cell_type": "code",
   "execution_count": 5,
   "metadata": {},
   "outputs": [
    {
     "data": {
      "text/html": [
       "<div>\n",
       "<style scoped>\n",
       "    .dataframe tbody tr th:only-of-type {\n",
       "        vertical-align: middle;\n",
       "    }\n",
       "\n",
       "    .dataframe tbody tr th {\n",
       "        vertical-align: top;\n",
       "    }\n",
       "\n",
       "    .dataframe thead th {\n",
       "        text-align: right;\n",
       "    }\n",
       "</style>\n",
       "<table border=\"1\" class=\"dataframe\">\n",
       "  <thead>\n",
       "    <tr style=\"text-align: right;\">\n",
       "      <th></th>\n",
       "      <th>PROP_TYPE</th>\n",
       "      <th>ADDRESS</th>\n",
       "      <th>CITY</th>\n",
       "      <th>ZIP</th>\n",
       "      <th>PRICE</th>\n",
       "      <th>LOCATION</th>\n",
       "      <th>SQFT</th>\n",
       "      <th>YR_BUILT</th>\n",
       "      <th>MLS#</th>\n",
       "      <th>LATITUDE</th>\n",
       "      <th>LONGITUDE</th>\n",
       "      <th>PARK_DIST</th>\n",
       "      <th>HOSPITAL_D</th>\n",
       "      <th>RAIL_DIST</th>\n",
       "      <th>BUS_COUNTS</th>\n",
       "      <th>FnB_COUNTS</th>\n",
       "    </tr>\n",
       "  </thead>\n",
       "  <tbody>\n",
       "    <tr>\n",
       "      <th>0</th>\n",
       "      <td>Multi-Family (2-4 Unit)</td>\n",
       "      <td>12251 S Lowe Ave</td>\n",
       "      <td>Chicago</td>\n",
       "      <td>60628</td>\n",
       "      <td>150000</td>\n",
       "      <td>CHI - West Pullman</td>\n",
       "      <td>NaN</td>\n",
       "      <td>1890</td>\n",
       "      <td>11971272</td>\n",
       "      <td>41.670989</td>\n",
       "      <td>-87.637762</td>\n",
       "      <td>26</td>\n",
       "      <td>3468</td>\n",
       "      <td>7804</td>\n",
       "      <td>14</td>\n",
       "      <td>1</td>\n",
       "    </tr>\n",
       "    <tr>\n",
       "      <th>1</th>\n",
       "      <td>Single Family Residential</td>\n",
       "      <td>12247 S Wallace St</td>\n",
       "      <td>Chicago</td>\n",
       "      <td>60628</td>\n",
       "      <td>47000</td>\n",
       "      <td>CHI - West Pullman</td>\n",
       "      <td>1100.0</td>\n",
       "      <td>1903</td>\n",
       "      <td>11889116</td>\n",
       "      <td>41.670992</td>\n",
       "      <td>-87.636609</td>\n",
       "      <td>146</td>\n",
       "      <td>3417</td>\n",
       "      <td>7780</td>\n",
       "      <td>12</td>\n",
       "      <td>1</td>\n",
       "    </tr>\n",
       "    <tr>\n",
       "      <th>2</th>\n",
       "      <td>Single Family Residential</td>\n",
       "      <td>12130 S Lowe Ave</td>\n",
       "      <td>Chicago</td>\n",
       "      <td>60628</td>\n",
       "      <td>69999</td>\n",
       "      <td>CHI - West Pullman</td>\n",
       "      <td>2250.0</td>\n",
       "      <td>1900</td>\n",
       "      <td>11938140.0</td>\n",
       "      <td>41.673240</td>\n",
       "      <td>-87.638399</td>\n",
       "      <td>66</td>\n",
       "      <td>3197</td>\n",
       "      <td>7489</td>\n",
       "      <td>24</td>\n",
       "      <td>1</td>\n",
       "    </tr>\n",
       "    <tr>\n",
       "      <th>3</th>\n",
       "      <td>Single Family Residential</td>\n",
       "      <td>503 W 125th St</td>\n",
       "      <td>Chicago</td>\n",
       "      <td>60628</td>\n",
       "      <td>185000</td>\n",
       "      <td>CHI - West Pullman</td>\n",
       "      <td>1120.0</td>\n",
       "      <td>1951</td>\n",
       "      <td>11919204</td>\n",
       "      <td>41.666739</td>\n",
       "      <td>-87.634544</td>\n",
       "      <td>137</td>\n",
       "      <td>3944</td>\n",
       "      <td>8371</td>\n",
       "      <td>13</td>\n",
       "      <td>0</td>\n",
       "    </tr>\n",
       "    <tr>\n",
       "      <th>4</th>\n",
       "      <td>Single Family Residential</td>\n",
       "      <td>12022 S Wentworth Ave</td>\n",
       "      <td>Chicago</td>\n",
       "      <td>60628</td>\n",
       "      <td>189900</td>\n",
       "      <td>CHI - West Pullman</td>\n",
       "      <td>NaN</td>\n",
       "      <td>0</td>\n",
       "      <td>11919207</td>\n",
       "      <td>41.675471</td>\n",
       "      <td>-87.627681</td>\n",
       "      <td>397</td>\n",
       "      <td>2515</td>\n",
       "      <td>7002</td>\n",
       "      <td>20</td>\n",
       "      <td>0</td>\n",
       "    </tr>\n",
       "  </tbody>\n",
       "</table>\n",
       "</div>"
      ],
      "text/plain": [
       "                   PROP_TYPE                ADDRESS     CITY    ZIP   PRICE  \\\n",
       "0    Multi-Family (2-4 Unit)       12251 S Lowe Ave  Chicago  60628  150000   \n",
       "1  Single Family Residential     12247 S Wallace St  Chicago  60628   47000   \n",
       "2  Single Family Residential       12130 S Lowe Ave  Chicago  60628   69999   \n",
       "3  Single Family Residential         503 W 125th St  Chicago  60628  185000   \n",
       "4  Single Family Residential  12022 S Wentworth Ave  Chicago  60628  189900   \n",
       "\n",
       "             LOCATION    SQFT  YR_BUILT        MLS#   LATITUDE  LONGITUDE  \\\n",
       "0  CHI - West Pullman     NaN      1890    11971272  41.670989 -87.637762   \n",
       "1  CHI - West Pullman  1100.0      1903    11889116  41.670992 -87.636609   \n",
       "2  CHI - West Pullman  2250.0      1900  11938140.0  41.673240 -87.638399   \n",
       "3  CHI - West Pullman  1120.0      1951    11919204  41.666739 -87.634544   \n",
       "4  CHI - West Pullman     NaN         0    11919207  41.675471 -87.627681   \n",
       "\n",
       "   PARK_DIST  HOSPITAL_D  RAIL_DIST  BUS_COUNTS  FnB_COUNTS  \n",
       "0         26        3468       7804          14           1  \n",
       "1        146        3417       7780          12           1  \n",
       "2         66        3197       7489          24           1  \n",
       "3        137        3944       8371          13           0  \n",
       "4        397        2515       7002          20           0  "
      ]
     },
     "execution_count": 5,
     "metadata": {},
     "output_type": "execute_result"
    }
   ],
   "source": [
    "data_df.head()"
   ]
  },
  {
   "cell_type": "code",
   "execution_count": 6,
   "metadata": {},
   "outputs": [
    {
     "data": {
      "text/plain": [
       "PROP_TYPE        0\n",
       "ADDRESS          0\n",
       "CITY             1\n",
       "ZIP              0\n",
       "PRICE            0\n",
       "LOCATION        77\n",
       "SQFT          2479\n",
       "YR_BUILT         0\n",
       "MLS#             8\n",
       "LATITUDE         0\n",
       "LONGITUDE        0\n",
       "PARK_DIST        0\n",
       "HOSPITAL_D       0\n",
       "RAIL_DIST        0\n",
       "BUS_COUNTS       0\n",
       "FnB_COUNTS       0\n",
       "dtype: int64"
      ]
     },
     "execution_count": 6,
     "metadata": {},
     "output_type": "execute_result"
    }
   ],
   "source": [
    "# Check out null values\n",
    "null_sum = data_df.isnull().sum()\n",
    "null_sum"
   ]
  },
  {
   "cell_type": "code",
   "execution_count": 7,
   "metadata": {},
   "outputs": [
    {
     "data": {
      "text/plain": [
       "((6178, 16),\n",
       " Index(['PROP_TYPE', 'ADDRESS', 'CITY', 'ZIP', 'PRICE', 'LOCATION', 'SQFT',\n",
       "        'YR_BUILT', 'MLS#', 'LATITUDE', 'LONGITUDE', 'PARK_DIST', 'HOSPITAL_D',\n",
       "        'RAIL_DIST', 'BUS_COUNTS', 'FnB_COUNTS'],\n",
       "       dtype='object'))"
      ]
     },
     "execution_count": 7,
     "metadata": {},
     "output_type": "execute_result"
    }
   ],
   "source": [
    "data_df.shape, data_df.columns"
   ]
  },
  {
   "cell_type": "code",
   "execution_count": 8,
   "metadata": {},
   "outputs": [
    {
     "data": {
      "text/html": [
       "<div>\n",
       "<style scoped>\n",
       "    .dataframe tbody tr th:only-of-type {\n",
       "        vertical-align: middle;\n",
       "    }\n",
       "\n",
       "    .dataframe tbody tr th {\n",
       "        vertical-align: top;\n",
       "    }\n",
       "\n",
       "    .dataframe thead th {\n",
       "        text-align: right;\n",
       "    }\n",
       "</style>\n",
       "<table border=\"1\" class=\"dataframe\">\n",
       "  <thead>\n",
       "    <tr style=\"text-align: right;\">\n",
       "      <th></th>\n",
       "      <th>PROP_TYPE</th>\n",
       "      <th>CITY</th>\n",
       "      <th>ZIP</th>\n",
       "      <th>LOCATION</th>\n",
       "    </tr>\n",
       "  </thead>\n",
       "  <tbody>\n",
       "    <tr>\n",
       "      <th>0</th>\n",
       "      <td>Multi-Family (2-4 Unit)</td>\n",
       "      <td>Chicago</td>\n",
       "      <td>60628</td>\n",
       "      <td>CHI - West Pullman</td>\n",
       "    </tr>\n",
       "    <tr>\n",
       "      <th>1</th>\n",
       "      <td>Single Family Residential</td>\n",
       "      <td>Chicago</td>\n",
       "      <td>60628</td>\n",
       "      <td>CHI - West Pullman</td>\n",
       "    </tr>\n",
       "    <tr>\n",
       "      <th>2</th>\n",
       "      <td>Single Family Residential</td>\n",
       "      <td>Chicago</td>\n",
       "      <td>60628</td>\n",
       "      <td>CHI - West Pullman</td>\n",
       "    </tr>\n",
       "    <tr>\n",
       "      <th>3</th>\n",
       "      <td>Single Family Residential</td>\n",
       "      <td>Chicago</td>\n",
       "      <td>60628</td>\n",
       "      <td>CHI - West Pullman</td>\n",
       "    </tr>\n",
       "    <tr>\n",
       "      <th>4</th>\n",
       "      <td>Single Family Residential</td>\n",
       "      <td>Chicago</td>\n",
       "      <td>60628</td>\n",
       "      <td>CHI - West Pullman</td>\n",
       "    </tr>\n",
       "    <tr>\n",
       "      <th>...</th>\n",
       "      <td>...</td>\n",
       "      <td>...</td>\n",
       "      <td>...</td>\n",
       "      <td>...</td>\n",
       "    </tr>\n",
       "    <tr>\n",
       "      <th>6173</th>\n",
       "      <td>Condo/Co-op</td>\n",
       "      <td>Oak Lawn</td>\n",
       "      <td>60453</td>\n",
       "      <td>Oak Lawn</td>\n",
       "    </tr>\n",
       "    <tr>\n",
       "      <th>6174</th>\n",
       "      <td>Single Family Residential</td>\n",
       "      <td>Chicago</td>\n",
       "      <td>60638</td>\n",
       "      <td>CHI - Garfield Ridge</td>\n",
       "    </tr>\n",
       "    <tr>\n",
       "      <th>6175</th>\n",
       "      <td>Single Family Residential</td>\n",
       "      <td>Calumet Park</td>\n",
       "      <td>60827</td>\n",
       "      <td>Calumet Park</td>\n",
       "    </tr>\n",
       "    <tr>\n",
       "      <th>6176</th>\n",
       "      <td>Condo/Co-op</td>\n",
       "      <td>Elmwood Park</td>\n",
       "      <td>60707</td>\n",
       "      <td>Elmwood Park</td>\n",
       "    </tr>\n",
       "    <tr>\n",
       "      <th>6177</th>\n",
       "      <td>Single Family Residential</td>\n",
       "      <td>Calumet Park</td>\n",
       "      <td>60827</td>\n",
       "      <td>Calumet Park</td>\n",
       "    </tr>\n",
       "  </tbody>\n",
       "</table>\n",
       "<p>6178 rows × 4 columns</p>\n",
       "</div>"
      ],
      "text/plain": [
       "                      PROP_TYPE          CITY    ZIP              LOCATION\n",
       "0       Multi-Family (2-4 Unit)       Chicago  60628    CHI - West Pullman\n",
       "1     Single Family Residential       Chicago  60628    CHI - West Pullman\n",
       "2     Single Family Residential       Chicago  60628    CHI - West Pullman\n",
       "3     Single Family Residential       Chicago  60628    CHI - West Pullman\n",
       "4     Single Family Residential       Chicago  60628    CHI - West Pullman\n",
       "...                         ...           ...    ...                   ...\n",
       "6173                Condo/Co-op      Oak Lawn  60453              Oak Lawn\n",
       "6174  Single Family Residential       Chicago  60638  CHI - Garfield Ridge\n",
       "6175  Single Family Residential  Calumet Park  60827          Calumet Park\n",
       "6176                Condo/Co-op  Elmwood Park  60707          Elmwood Park\n",
       "6177  Single Family Residential  Calumet Park  60827          Calumet Park\n",
       "\n",
       "[6178 rows x 4 columns]"
      ]
     },
     "execution_count": 8,
     "metadata": {},
     "output_type": "execute_result"
    }
   ],
   "source": [
    "cat_col = ['PROP_TYPE', 'CITY', 'ZIP', 'LOCATION']\n",
    "data_df[cat_col] = data_df[cat_col].astype('category')\n",
    "data_df[cat_col]"
   ]
  },
  {
   "cell_type": "code",
   "execution_count": 9,
   "metadata": {},
   "outputs": [
    {
     "data": {
      "text/plain": [
       "PROP_TYPE    category\n",
       "CITY         category\n",
       "ZIP          category\n",
       "LOCATION     category\n",
       "dtype: object"
      ]
     },
     "execution_count": 9,
     "metadata": {},
     "output_type": "execute_result"
    }
   ],
   "source": [
    "# the following columns now all have the categorical data types\n",
    "data_df[cat_col].dtypes"
   ]
  },
  {
   "cell_type": "code",
   "execution_count": 10,
   "metadata": {},
   "outputs": [
    {
     "data": {
      "text/plain": [
       "Chicago             6049\n",
       "Oak Park              15\n",
       "Elmwood Park          14\n",
       "Evergreen Park        12\n",
       "Calumet Park          11\n",
       "Evanston              10\n",
       "Norridge               9\n",
       "Oak Lawn               9\n",
       "Cicero                 8\n",
       "Harwood Heights        5\n",
       "Alsip                  4\n",
       "Park Ridge             4\n",
       "Lincolnwood            4\n",
       "Nottingham Park        3\n",
       "Hometown               3\n",
       "River Grove            3\n",
       "Rosemont               3\n",
       "Burbank                2\n",
       "Burnham                2\n",
       "Stickney               2\n",
       "Merrionette Park       1\n",
       "Niles                  1\n",
       "Dolton                 1\n",
       "Riverdale              1\n",
       "Summit                 1\n",
       "Name: CITY, dtype: int64"
      ]
     },
     "execution_count": 10,
     "metadata": {},
     "output_type": "execute_result"
    }
   ],
   "source": [
    "# count the #samples fall into each category\n",
    "data_df['CITY'].value_counts() "
   ]
  },
  {
   "cell_type": "code",
   "execution_count": 11,
   "metadata": {},
   "outputs": [
    {
     "data": {
      "text/plain": [
       "Condo/Co-op                  2427\n",
       "Single Family Residential    1683\n",
       "Multi-Family (2-4 Unit)       806\n",
       "Vacant Land                   740\n",
       "Parking                       208\n",
       "Multi-Family (5+ Unit)        155\n",
       "Townhouse                     154\n",
       "Mobile/Manufactured Home        3\n",
       "Ranch                           1\n",
       "Unknown                         1\n",
       "Name: PROP_TYPE, dtype: int64"
      ]
     },
     "execution_count": 11,
     "metadata": {},
     "output_type": "execute_result"
    }
   ],
   "source": [
    "# check the data of PROPERTY TYPE\n",
    "data_df['PROP_TYPE'].value_counts() "
   ]
  },
  {
   "cell_type": "code",
   "execution_count": 12,
   "metadata": {},
   "outputs": [],
   "source": [
    "# Merge two seperate multi-family categories into one single category\n",
    "data_df['PROP_TYPE'].replace(['Multi-Family (5+ Unit)', 'Multi-Family (2-4 Unit)'],'Multi-Family', inplace=True)"
   ]
  },
  {
   "cell_type": "code",
   "execution_count": 13,
   "metadata": {},
   "outputs": [
    {
     "data": {
      "text/plain": [
       "Condo/Co-op                  2427\n",
       "Single Family Residential    1683\n",
       "Multi-Family                  961\n",
       "Vacant Land                   740\n",
       "Parking                       208\n",
       "Townhouse                     154\n",
       "Mobile/Manufactured Home        3\n",
       "Ranch                           1\n",
       "Unknown                         1\n",
       "Name: PROP_TYPE, dtype: int64"
      ]
     },
     "execution_count": 13,
     "metadata": {},
     "output_type": "execute_result"
    }
   ],
   "source": [
    "data_df['PROP_TYPE'].value_counts() "
   ]
  },
  {
   "cell_type": "code",
   "execution_count": 14,
   "metadata": {},
   "outputs": [],
   "source": [
    "# Parking sapces are irrelevant to my research question\n",
    "# I use the following code to remove them\n",
    "data_df = data_df[~data_df['PROP_TYPE'].str.contains('Parking')]"
   ]
  },
  {
   "cell_type": "code",
   "execution_count": 15,
   "metadata": {},
   "outputs": [
    {
     "data": {
      "text/plain": [
       "Condo/Co-op                  2427\n",
       "Single Family Residential    1683\n",
       "Multi-Family                  961\n",
       "Vacant Land                   740\n",
       "Townhouse                     154\n",
       "Mobile/Manufactured Home        3\n",
       "Ranch                           1\n",
       "Unknown                         1\n",
       "Parking                         0\n",
       "Name: PROP_TYPE, dtype: int64"
      ]
     },
     "execution_count": 15,
     "metadata": {},
     "output_type": "execute_result"
    }
   ],
   "source": [
    "data_df['PROP_TYPE'].value_counts() "
   ]
  },
  {
   "cell_type": "code",
   "execution_count": 16,
   "metadata": {},
   "outputs": [
    {
     "data": {
      "text/html": [
       "<div>\n",
       "<style scoped>\n",
       "    .dataframe tbody tr th:only-of-type {\n",
       "        vertical-align: middle;\n",
       "    }\n",
       "\n",
       "    .dataframe tbody tr th {\n",
       "        vertical-align: top;\n",
       "    }\n",
       "\n",
       "    .dataframe thead th {\n",
       "        text-align: right;\n",
       "    }\n",
       "</style>\n",
       "<table border=\"1\" class=\"dataframe\">\n",
       "  <thead>\n",
       "    <tr style=\"text-align: right;\">\n",
       "      <th></th>\n",
       "      <th>PROP_TYPE</th>\n",
       "      <th>ADDRESS</th>\n",
       "      <th>CITY</th>\n",
       "      <th>ZIP</th>\n",
       "      <th>PRICE</th>\n",
       "      <th>LOCATION</th>\n",
       "      <th>SQFT</th>\n",
       "      <th>YR_BUILT</th>\n",
       "      <th>MLS#</th>\n",
       "      <th>LATITUDE</th>\n",
       "      <th>LONGITUDE</th>\n",
       "      <th>PARK_DIST</th>\n",
       "      <th>HOSPITAL_D</th>\n",
       "      <th>RAIL_DIST</th>\n",
       "      <th>BUS_COUNTS</th>\n",
       "      <th>FnB_COUNTS</th>\n",
       "    </tr>\n",
       "  </thead>\n",
       "  <tbody>\n",
       "    <tr>\n",
       "      <th>0</th>\n",
       "      <td>Multi-Family</td>\n",
       "      <td>12251 S Lowe Ave</td>\n",
       "      <td>Chicago</td>\n",
       "      <td>60628</td>\n",
       "      <td>150000</td>\n",
       "      <td>CHI - West Pullman</td>\n",
       "      <td>NaN</td>\n",
       "      <td>1890</td>\n",
       "      <td>11971272</td>\n",
       "      <td>41.670989</td>\n",
       "      <td>-87.637762</td>\n",
       "      <td>26</td>\n",
       "      <td>3468</td>\n",
       "      <td>7804</td>\n",
       "      <td>14</td>\n",
       "      <td>1</td>\n",
       "    </tr>\n",
       "    <tr>\n",
       "      <th>1</th>\n",
       "      <td>Single Family Residential</td>\n",
       "      <td>12247 S Wallace St</td>\n",
       "      <td>Chicago</td>\n",
       "      <td>60628</td>\n",
       "      <td>47000</td>\n",
       "      <td>CHI - West Pullman</td>\n",
       "      <td>1100.0</td>\n",
       "      <td>1903</td>\n",
       "      <td>11889116</td>\n",
       "      <td>41.670992</td>\n",
       "      <td>-87.636609</td>\n",
       "      <td>146</td>\n",
       "      <td>3417</td>\n",
       "      <td>7780</td>\n",
       "      <td>12</td>\n",
       "      <td>1</td>\n",
       "    </tr>\n",
       "    <tr>\n",
       "      <th>2</th>\n",
       "      <td>Single Family Residential</td>\n",
       "      <td>12130 S Lowe Ave</td>\n",
       "      <td>Chicago</td>\n",
       "      <td>60628</td>\n",
       "      <td>69999</td>\n",
       "      <td>CHI - West Pullman</td>\n",
       "      <td>2250.0</td>\n",
       "      <td>1900</td>\n",
       "      <td>11938140.0</td>\n",
       "      <td>41.673240</td>\n",
       "      <td>-87.638399</td>\n",
       "      <td>66</td>\n",
       "      <td>3197</td>\n",
       "      <td>7489</td>\n",
       "      <td>24</td>\n",
       "      <td>1</td>\n",
       "    </tr>\n",
       "    <tr>\n",
       "      <th>3</th>\n",
       "      <td>Single Family Residential</td>\n",
       "      <td>503 W 125th St</td>\n",
       "      <td>Chicago</td>\n",
       "      <td>60628</td>\n",
       "      <td>185000</td>\n",
       "      <td>CHI - West Pullman</td>\n",
       "      <td>1120.0</td>\n",
       "      <td>1951</td>\n",
       "      <td>11919204</td>\n",
       "      <td>41.666739</td>\n",
       "      <td>-87.634544</td>\n",
       "      <td>137</td>\n",
       "      <td>3944</td>\n",
       "      <td>8371</td>\n",
       "      <td>13</td>\n",
       "      <td>0</td>\n",
       "    </tr>\n",
       "    <tr>\n",
       "      <th>4</th>\n",
       "      <td>Single Family Residential</td>\n",
       "      <td>12022 S Wentworth Ave</td>\n",
       "      <td>Chicago</td>\n",
       "      <td>60628</td>\n",
       "      <td>189900</td>\n",
       "      <td>CHI - West Pullman</td>\n",
       "      <td>NaN</td>\n",
       "      <td>0</td>\n",
       "      <td>11919207</td>\n",
       "      <td>41.675471</td>\n",
       "      <td>-87.627681</td>\n",
       "      <td>397</td>\n",
       "      <td>2515</td>\n",
       "      <td>7002</td>\n",
       "      <td>20</td>\n",
       "      <td>0</td>\n",
       "    </tr>\n",
       "  </tbody>\n",
       "</table>\n",
       "</div>"
      ],
      "text/plain": [
       "                   PROP_TYPE                ADDRESS     CITY    ZIP   PRICE  \\\n",
       "0               Multi-Family       12251 S Lowe Ave  Chicago  60628  150000   \n",
       "1  Single Family Residential     12247 S Wallace St  Chicago  60628   47000   \n",
       "2  Single Family Residential       12130 S Lowe Ave  Chicago  60628   69999   \n",
       "3  Single Family Residential         503 W 125th St  Chicago  60628  185000   \n",
       "4  Single Family Residential  12022 S Wentworth Ave  Chicago  60628  189900   \n",
       "\n",
       "             LOCATION    SQFT  YR_BUILT        MLS#   LATITUDE  LONGITUDE  \\\n",
       "0  CHI - West Pullman     NaN      1890    11971272  41.670989 -87.637762   \n",
       "1  CHI - West Pullman  1100.0      1903    11889116  41.670992 -87.636609   \n",
       "2  CHI - West Pullman  2250.0      1900  11938140.0  41.673240 -87.638399   \n",
       "3  CHI - West Pullman  1120.0      1951    11919204  41.666739 -87.634544   \n",
       "4  CHI - West Pullman     NaN         0    11919207  41.675471 -87.627681   \n",
       "\n",
       "   PARK_DIST  HOSPITAL_D  RAIL_DIST  BUS_COUNTS  FnB_COUNTS  \n",
       "0         26        3468       7804          14           1  \n",
       "1        146        3417       7780          12           1  \n",
       "2         66        3197       7489          24           1  \n",
       "3        137        3944       8371          13           0  \n",
       "4        397        2515       7002          20           0  "
      ]
     },
     "execution_count": 16,
     "metadata": {},
     "output_type": "execute_result"
    }
   ],
   "source": [
    "data_df.head()"
   ]
  },
  {
   "cell_type": "code",
   "execution_count": 17,
   "metadata": {},
   "outputs": [
    {
     "data": {
      "text/plain": [
       "PROP_TYPE        0\n",
       "ADDRESS          0\n",
       "CITY             1\n",
       "ZIP              0\n",
       "PRICE            0\n",
       "LOCATION        77\n",
       "SQFT          2271\n",
       "YR_BUILT         0\n",
       "MLS#             8\n",
       "LATITUDE         0\n",
       "LONGITUDE        0\n",
       "PARK_DIST        0\n",
       "HOSPITAL_D       0\n",
       "RAIL_DIST        0\n",
       "BUS_COUNTS       0\n",
       "FnB_COUNTS       0\n",
       "dtype: int64"
      ]
     },
     "execution_count": 17,
     "metadata": {},
     "output_type": "execute_result"
    }
   ],
   "source": [
    "null_sum = data_df.isnull().sum()\n",
    "null_sum"
   ]
  },
  {
   "cell_type": "code",
   "execution_count": 18,
   "metadata": {},
   "outputs": [
    {
     "data": {
      "text/plain": [
       "5970"
      ]
     },
     "execution_count": 18,
     "metadata": {},
     "output_type": "execute_result"
    }
   ],
   "source": [
    "len(data_df)"
   ]
  },
  {
   "cell_type": "code",
   "execution_count": 19,
   "metadata": {},
   "outputs": [],
   "source": [
    "data_df.drop(data_df[data_df['CITY'].isna()].index, inplace=True)"
   ]
  },
  {
   "cell_type": "code",
   "execution_count": 20,
   "metadata": {},
   "outputs": [],
   "source": [
    "data_df.drop(data_df[data_df['LOCATION'].isna()].index, inplace=True)"
   ]
  },
  {
   "cell_type": "code",
   "execution_count": 21,
   "metadata": {},
   "outputs": [
    {
     "data": {
      "text/plain": [
       "PROP_TYPE        0\n",
       "ADDRESS          0\n",
       "CITY             0\n",
       "ZIP              0\n",
       "PRICE            0\n",
       "LOCATION         0\n",
       "SQFT          2241\n",
       "YR_BUILT         0\n",
       "MLS#             0\n",
       "LATITUDE         0\n",
       "LONGITUDE        0\n",
       "PARK_DIST        0\n",
       "HOSPITAL_D       0\n",
       "RAIL_DIST        0\n",
       "BUS_COUNTS       0\n",
       "FnB_COUNTS       0\n",
       "dtype: int64"
      ]
     },
     "execution_count": 21,
     "metadata": {},
     "output_type": "execute_result"
    }
   ],
   "source": [
    "null_sum = data_df.isnull().sum()\n",
    "null_sum"
   ]
  },
  {
   "cell_type": "code",
   "execution_count": 22,
   "metadata": {},
   "outputs": [
    {
     "data": {
      "text/plain": [
       "Condo/Co-op                  2409\n",
       "Single Family Residential    1649\n",
       "Multi-Family                  940\n",
       "Vacant Land                   739\n",
       "Townhouse                     151\n",
       "Mobile/Manufactured Home        3\n",
       "Ranch                           1\n",
       "Unknown                         1\n",
       "Parking                         0\n",
       "Name: PROP_TYPE, dtype: int64"
      ]
     },
     "execution_count": 22,
     "metadata": {},
     "output_type": "execute_result"
    }
   ],
   "source": [
    "data_df['PROP_TYPE'].value_counts() "
   ]
  },
  {
   "cell_type": "code",
   "execution_count": 23,
   "metadata": {},
   "outputs": [],
   "source": [
    "data_df.drop(data_df[data_df['PROP_TYPE'] == 'Vacant Land'].index, inplace=True)"
   ]
  },
  {
   "cell_type": "code",
   "execution_count": 24,
   "metadata": {},
   "outputs": [
    {
     "data": {
      "text/plain": [
       "5154"
      ]
     },
     "execution_count": 24,
     "metadata": {},
     "output_type": "execute_result"
    }
   ],
   "source": [
    "len(data_df)"
   ]
  },
  {
   "cell_type": "code",
   "execution_count": 25,
   "metadata": {},
   "outputs": [],
   "source": [
    "average_sqft = data_df[data_df['SQFT'].notnull()]['SQFT'].mean()\n",
    "\n",
    "data_df.loc[data_df['SQFT'].isnull(), 'SQFT'] = average_sqft\n",
    "\n",
    "average_yr = data_df[data_df['YR_BUILT'] != 0]['YR_BUILT'].mean()\n",
    "\n",
    "data_df.loc[data_df['YR_BUILT'] == 0, 'YR_BUILT'] = average_yr"
   ]
  },
  {
   "cell_type": "code",
   "execution_count": 26,
   "metadata": {},
   "outputs": [
    {
     "data": {
      "text/plain": [
       "Index(['PROP_TYPE', 'ADDRESS', 'CITY', 'ZIP', 'PRICE', 'LOCATION', 'SQFT',\n",
       "       'YR_BUILT', 'MLS#', 'LATITUDE', 'LONGITUDE', 'PARK_DIST', 'HOSPITAL_D',\n",
       "       'RAIL_DIST', 'BUS_COUNTS', 'FnB_COUNTS'],\n",
       "      dtype='object')"
      ]
     },
     "execution_count": 26,
     "metadata": {},
     "output_type": "execute_result"
    }
   ],
   "source": [
    "data_df.columns"
   ]
  },
  {
   "cell_type": "code",
   "execution_count": 27,
   "metadata": {},
   "outputs": [],
   "source": [
    "num_col = ['PRICE', 'SQFT', 'YR_BUILT', 'PARK_DIST', 'HOSPITAL_D', 'RAIL_DIST', 'BUS_COUNTS', 'FnB_COUNTS']"
   ]
  },
  {
   "cell_type": "code",
   "execution_count": 28,
   "metadata": {},
   "outputs": [
    {
     "data": {
      "text/html": [
       "<div>\n",
       "<style scoped>\n",
       "    .dataframe tbody tr th:only-of-type {\n",
       "        vertical-align: middle;\n",
       "    }\n",
       "\n",
       "    .dataframe tbody tr th {\n",
       "        vertical-align: top;\n",
       "    }\n",
       "\n",
       "    .dataframe thead th {\n",
       "        text-align: right;\n",
       "    }\n",
       "</style>\n",
       "<table border=\"1\" class=\"dataframe\">\n",
       "  <thead>\n",
       "    <tr style=\"text-align: right;\">\n",
       "      <th></th>\n",
       "      <th>PRICE</th>\n",
       "      <th>SQFT</th>\n",
       "      <th>YR_BUILT</th>\n",
       "      <th>PARK_DIST</th>\n",
       "      <th>HOSPITAL_D</th>\n",
       "      <th>RAIL_DIST</th>\n",
       "      <th>BUS_COUNTS</th>\n",
       "      <th>FnB_COUNTS</th>\n",
       "    </tr>\n",
       "  </thead>\n",
       "  <tbody>\n",
       "    <tr>\n",
       "      <th>count</th>\n",
       "      <td>5.154000e+03</td>\n",
       "      <td>5154.000000</td>\n",
       "      <td>5154.000000</td>\n",
       "      <td>5154.000000</td>\n",
       "      <td>5154.000000</td>\n",
       "      <td>5154.000000</td>\n",
       "      <td>5154.000000</td>\n",
       "      <td>5154.000000</td>\n",
       "    </tr>\n",
       "    <tr>\n",
       "      <th>mean</th>\n",
       "      <td>6.771614e+05</td>\n",
       "      <td>2025.422782</td>\n",
       "      <td>1954.535661</td>\n",
       "      <td>398.728754</td>\n",
       "      <td>2288.929375</td>\n",
       "      <td>2052.604773</td>\n",
       "      <td>44.336244</td>\n",
       "      <td>58.089057</td>\n",
       "    </tr>\n",
       "    <tr>\n",
       "      <th>std</th>\n",
       "      <td>1.048667e+06</td>\n",
       "      <td>1687.731753</td>\n",
       "      <td>42.768571</td>\n",
       "      <td>331.386412</td>\n",
       "      <td>1698.348558</td>\n",
       "      <td>2191.131304</td>\n",
       "      <td>21.458078</td>\n",
       "      <td>91.218221</td>\n",
       "    </tr>\n",
       "    <tr>\n",
       "      <th>min</th>\n",
       "      <td>1.000000e+00</td>\n",
       "      <td>1.000000</td>\n",
       "      <td>1698.000000</td>\n",
       "      <td>0.000000</td>\n",
       "      <td>63.000000</td>\n",
       "      <td>51.000000</td>\n",
       "      <td>0.000000</td>\n",
       "      <td>0.000000</td>\n",
       "    </tr>\n",
       "    <tr>\n",
       "      <th>25%</th>\n",
       "      <td>2.399990e+05</td>\n",
       "      <td>1242.750000</td>\n",
       "      <td>1918.000000</td>\n",
       "      <td>157.250000</td>\n",
       "      <td>1094.000000</td>\n",
       "      <td>626.000000</td>\n",
       "      <td>31.000000</td>\n",
       "      <td>2.000000</td>\n",
       "    </tr>\n",
       "    <tr>\n",
       "      <th>50%</th>\n",
       "      <td>3.770000e+05</td>\n",
       "      <td>2025.422782</td>\n",
       "      <td>1954.535661</td>\n",
       "      <td>321.000000</td>\n",
       "      <td>1958.500000</td>\n",
       "      <td>1158.000000</td>\n",
       "      <td>41.000000</td>\n",
       "      <td>14.000000</td>\n",
       "    </tr>\n",
       "    <tr>\n",
       "      <th>75%</th>\n",
       "      <td>6.999000e+05</td>\n",
       "      <td>2025.422782</td>\n",
       "      <td>2000.000000</td>\n",
       "      <td>562.000000</td>\n",
       "      <td>2884.750000</td>\n",
       "      <td>2681.750000</td>\n",
       "      <td>53.000000</td>\n",
       "      <td>74.000000</td>\n",
       "    </tr>\n",
       "    <tr>\n",
       "      <th>max</th>\n",
       "      <td>2.350000e+07</td>\n",
       "      <td>65000.000000</td>\n",
       "      <td>2024.000000</td>\n",
       "      <td>4813.000000</td>\n",
       "      <td>12686.000000</td>\n",
       "      <td>15069.000000</td>\n",
       "      <td>115.000000</td>\n",
       "      <td>433.000000</td>\n",
       "    </tr>\n",
       "  </tbody>\n",
       "</table>\n",
       "</div>"
      ],
      "text/plain": [
       "              PRICE          SQFT     YR_BUILT    PARK_DIST    HOSPITAL_D  \\\n",
       "count  5.154000e+03   5154.000000  5154.000000  5154.000000   5154.000000   \n",
       "mean   6.771614e+05   2025.422782  1954.535661   398.728754   2288.929375   \n",
       "std    1.048667e+06   1687.731753    42.768571   331.386412   1698.348558   \n",
       "min    1.000000e+00      1.000000  1698.000000     0.000000     63.000000   \n",
       "25%    2.399990e+05   1242.750000  1918.000000   157.250000   1094.000000   \n",
       "50%    3.770000e+05   2025.422782  1954.535661   321.000000   1958.500000   \n",
       "75%    6.999000e+05   2025.422782  2000.000000   562.000000   2884.750000   \n",
       "max    2.350000e+07  65000.000000  2024.000000  4813.000000  12686.000000   \n",
       "\n",
       "          RAIL_DIST   BUS_COUNTS   FnB_COUNTS  \n",
       "count   5154.000000  5154.000000  5154.000000  \n",
       "mean    2052.604773    44.336244    58.089057  \n",
       "std     2191.131304    21.458078    91.218221  \n",
       "min       51.000000     0.000000     0.000000  \n",
       "25%      626.000000    31.000000     2.000000  \n",
       "50%     1158.000000    41.000000    14.000000  \n",
       "75%     2681.750000    53.000000    74.000000  \n",
       "max    15069.000000   115.000000   433.000000  "
      ]
     },
     "execution_count": 28,
     "metadata": {},
     "output_type": "execute_result"
    }
   ],
   "source": [
    "data_df[num_col].describe()"
   ]
  },
  {
   "cell_type": "code",
   "execution_count": 29,
   "metadata": {},
   "outputs": [
    {
     "data": {
      "text/plain": [
       "<Axes: xlabel='YR_BUILT'>"
      ]
     },
     "execution_count": 29,
     "metadata": {},
     "output_type": "execute_result"
    },
    {
     "data": {
      "image/png": "[encoded data removed]",
      "text/plain": [
       "<Figure size 640x480 with 1 Axes>"
      ]
     },
     "metadata": {},
     "output_type": "display_data"
    }
   ],
   "source": [
    "# draw box plot to check outliers\n",
    "attr = 'YR_BUILT'\n",
    "sns.set_style(\"darkgrid\",{'axes.grid' : True})\n",
    "sns.boxplot(x=data_df[attr], orient='h')"
   ]
  },
  {
   "cell_type": "code",
   "execution_count": 30,
   "metadata": {},
   "outputs": [
    {
     "name": "stdout",
     "output_type": "stream",
     "text": [
      "1918.0 2000.0 1795.0 2123.0\n"
     ]
    }
   ],
   "source": [
    "Q1 = data_df[attr].quantile(0.25)\n",
    "Q3 = data_df[attr].quantile(0.75)\n",
    "IQR = Q3 - Q1\n",
    "lower_thresh = Q1 - 1.5*IQR\n",
    "upper_thresh = Q3 + 1.5*IQR\n",
    "print(Q1, Q3, lower_thresh, upper_thresh)"
   ]
  },
  {
   "cell_type": "code",
   "execution_count": 31,
   "metadata": {},
   "outputs": [
    {
     "data": {
      "text/html": [
       "<div>\n",
       "<style scoped>\n",
       "    .dataframe tbody tr th:only-of-type {\n",
       "        vertical-align: middle;\n",
       "    }\n",
       "\n",
       "    .dataframe tbody tr th {\n",
       "        vertical-align: top;\n",
       "    }\n",
       "\n",
       "    .dataframe thead th {\n",
       "        text-align: right;\n",
       "    }\n",
       "</style>\n",
       "<table border=\"1\" class=\"dataframe\">\n",
       "  <thead>\n",
       "    <tr style=\"text-align: right;\">\n",
       "      <th></th>\n",
       "      <th>PROP_TYPE</th>\n",
       "      <th>ADDRESS</th>\n",
       "      <th>CITY</th>\n",
       "      <th>ZIP</th>\n",
       "      <th>PRICE</th>\n",
       "      <th>LOCATION</th>\n",
       "      <th>SQFT</th>\n",
       "      <th>YR_BUILT</th>\n",
       "      <th>MLS#</th>\n",
       "      <th>LATITUDE</th>\n",
       "      <th>LONGITUDE</th>\n",
       "      <th>PARK_DIST</th>\n",
       "      <th>HOSPITAL_D</th>\n",
       "      <th>RAIL_DIST</th>\n",
       "      <th>BUS_COUNTS</th>\n",
       "      <th>FnB_COUNTS</th>\n",
       "    </tr>\n",
       "  </thead>\n",
       "  <tbody>\n",
       "    <tr>\n",
       "      <th>0</th>\n",
       "      <td>Multi-Family</td>\n",
       "      <td>12251 S Lowe Ave</td>\n",
       "      <td>Chicago</td>\n",
       "      <td>60628</td>\n",
       "      <td>150000</td>\n",
       "      <td>CHI - West Pullman</td>\n",
       "      <td>2025.422782</td>\n",
       "      <td>1890.000000</td>\n",
       "      <td>11971272</td>\n",
       "      <td>41.670989</td>\n",
       "      <td>-87.637762</td>\n",
       "      <td>26</td>\n",
       "      <td>3468</td>\n",
       "      <td>7804</td>\n",
       "      <td>14</td>\n",
       "      <td>1</td>\n",
       "    </tr>\n",
       "    <tr>\n",
       "      <th>1</th>\n",
       "      <td>Single Family Residential</td>\n",
       "      <td>12247 S Wallace St</td>\n",
       "      <td>Chicago</td>\n",
       "      <td>60628</td>\n",
       "      <td>47000</td>\n",
       "      <td>CHI - West Pullman</td>\n",
       "      <td>1100.000000</td>\n",
       "      <td>1903.000000</td>\n",
       "      <td>11889116</td>\n",
       "      <td>41.670992</td>\n",
       "      <td>-87.636609</td>\n",
       "      <td>146</td>\n",
       "      <td>3417</td>\n",
       "      <td>7780</td>\n",
       "      <td>12</td>\n",
       "      <td>1</td>\n",
       "    </tr>\n",
       "    <tr>\n",
       "      <th>2</th>\n",
       "      <td>Single Family Residential</td>\n",
       "      <td>12130 S Lowe Ave</td>\n",
       "      <td>Chicago</td>\n",
       "      <td>60628</td>\n",
       "      <td>69999</td>\n",
       "      <td>CHI - West Pullman</td>\n",
       "      <td>2250.000000</td>\n",
       "      <td>1900.000000</td>\n",
       "      <td>11938140.0</td>\n",
       "      <td>41.673240</td>\n",
       "      <td>-87.638399</td>\n",
       "      <td>66</td>\n",
       "      <td>3197</td>\n",
       "      <td>7489</td>\n",
       "      <td>24</td>\n",
       "      <td>1</td>\n",
       "    </tr>\n",
       "    <tr>\n",
       "      <th>3</th>\n",
       "      <td>Single Family Residential</td>\n",
       "      <td>503 W 125th St</td>\n",
       "      <td>Chicago</td>\n",
       "      <td>60628</td>\n",
       "      <td>185000</td>\n",
       "      <td>CHI - West Pullman</td>\n",
       "      <td>1120.000000</td>\n",
       "      <td>1951.000000</td>\n",
       "      <td>11919204</td>\n",
       "      <td>41.666739</td>\n",
       "      <td>-87.634544</td>\n",
       "      <td>137</td>\n",
       "      <td>3944</td>\n",
       "      <td>8371</td>\n",
       "      <td>13</td>\n",
       "      <td>0</td>\n",
       "    </tr>\n",
       "    <tr>\n",
       "      <th>4</th>\n",
       "      <td>Single Family Residential</td>\n",
       "      <td>12022 S Wentworth Ave</td>\n",
       "      <td>Chicago</td>\n",
       "      <td>60628</td>\n",
       "      <td>189900</td>\n",
       "      <td>CHI - West Pullman</td>\n",
       "      <td>2025.422782</td>\n",
       "      <td>1954.535661</td>\n",
       "      <td>11919207</td>\n",
       "      <td>41.675471</td>\n",
       "      <td>-87.627681</td>\n",
       "      <td>397</td>\n",
       "      <td>2515</td>\n",
       "      <td>7002</td>\n",
       "      <td>20</td>\n",
       "      <td>0</td>\n",
       "    </tr>\n",
       "    <tr>\n",
       "      <th>...</th>\n",
       "      <td>...</td>\n",
       "      <td>...</td>\n",
       "      <td>...</td>\n",
       "      <td>...</td>\n",
       "      <td>...</td>\n",
       "      <td>...</td>\n",
       "      <td>...</td>\n",
       "      <td>...</td>\n",
       "      <td>...</td>\n",
       "      <td>...</td>\n",
       "      <td>...</td>\n",
       "      <td>...</td>\n",
       "      <td>...</td>\n",
       "      <td>...</td>\n",
       "      <td>...</td>\n",
       "      <td>...</td>\n",
       "    </tr>\n",
       "    <tr>\n",
       "      <th>6173</th>\n",
       "      <td>Condo/Co-op</td>\n",
       "      <td>4410 W 111th St #301</td>\n",
       "      <td>Oak Lawn</td>\n",
       "      <td>60453</td>\n",
       "      <td>129900</td>\n",
       "      <td>Oak Lawn</td>\n",
       "      <td>2025.422782</td>\n",
       "      <td>1972.000000</td>\n",
       "      <td>11944126</td>\n",
       "      <td>41.691352</td>\n",
       "      <td>-87.730402</td>\n",
       "      <td>1413</td>\n",
       "      <td>11728</td>\n",
       "      <td>12673</td>\n",
       "      <td>0</td>\n",
       "      <td>0</td>\n",
       "    </tr>\n",
       "    <tr>\n",
       "      <th>6174</th>\n",
       "      <td>Single Family Residential</td>\n",
       "      <td>4952 S Laramie Ave</td>\n",
       "      <td>Chicago</td>\n",
       "      <td>60638</td>\n",
       "      <td>99500</td>\n",
       "      <td>CHI - Garfield Ridge</td>\n",
       "      <td>2025.422782</td>\n",
       "      <td>1937.000000</td>\n",
       "      <td>11970645.0</td>\n",
       "      <td>41.802575</td>\n",
       "      <td>-87.753289</td>\n",
       "      <td>332</td>\n",
       "      <td>8414</td>\n",
       "      <td>2932</td>\n",
       "      <td>8</td>\n",
       "      <td>1</td>\n",
       "    </tr>\n",
       "    <tr>\n",
       "      <th>6175</th>\n",
       "      <td>Single Family Residential</td>\n",
       "      <td>1005 W 123rd St</td>\n",
       "      <td>Calumet Park</td>\n",
       "      <td>60827</td>\n",
       "      <td>62500</td>\n",
       "      <td>Calumet Park</td>\n",
       "      <td>1264.000000</td>\n",
       "      <td>1954.535661</td>\n",
       "      <td>11925316.0</td>\n",
       "      <td>41.670262</td>\n",
       "      <td>-87.646918</td>\n",
       "      <td>391</td>\n",
       "      <td>4080</td>\n",
       "      <td>8163</td>\n",
       "      <td>12</td>\n",
       "      <td>1</td>\n",
       "    </tr>\n",
       "    <tr>\n",
       "      <th>6176</th>\n",
       "      <td>Condo/Co-op</td>\n",
       "      <td>7234 W North Ave #605</td>\n",
       "      <td>Elmwood Park</td>\n",
       "      <td>60707</td>\n",
       "      <td>73000</td>\n",
       "      <td>Elmwood Park</td>\n",
       "      <td>500.000000</td>\n",
       "      <td>1976.000000</td>\n",
       "      <td>11906747.0</td>\n",
       "      <td>41.909142</td>\n",
       "      <td>-87.807799</td>\n",
       "      <td>1821</td>\n",
       "      <td>2298</td>\n",
       "      <td>3374</td>\n",
       "      <td>20</td>\n",
       "      <td>2</td>\n",
       "    </tr>\n",
       "    <tr>\n",
       "      <th>6177</th>\n",
       "      <td>Single Family Residential</td>\n",
       "      <td>12434 S Elizabeth St</td>\n",
       "      <td>Calumet Park</td>\n",
       "      <td>60827</td>\n",
       "      <td>66300</td>\n",
       "      <td>Calumet Park</td>\n",
       "      <td>1177.000000</td>\n",
       "      <td>1944.000000</td>\n",
       "      <td>11880499.0</td>\n",
       "      <td>41.667546</td>\n",
       "      <td>-87.652807</td>\n",
       "      <td>790</td>\n",
       "      <td>4804</td>\n",
       "      <td>8764</td>\n",
       "      <td>0</td>\n",
       "      <td>0</td>\n",
       "    </tr>\n",
       "  </tbody>\n",
       "</table>\n",
       "<p>5154 rows × 16 columns</p>\n",
       "</div>"
      ],
      "text/plain": [
       "                      PROP_TYPE                ADDRESS          CITY    ZIP  \\\n",
       "0                  Multi-Family       12251 S Lowe Ave       Chicago  60628   \n",
       "1     Single Family Residential     12247 S Wallace St       Chicago  60628   \n",
       "2     Single Family Residential       12130 S Lowe Ave       Chicago  60628   \n",
       "3     Single Family Residential         503 W 125th St       Chicago  60628   \n",
       "4     Single Family Residential  12022 S Wentworth Ave       Chicago  60628   \n",
       "...                         ...                    ...           ...    ...   \n",
       "6173                Condo/Co-op   4410 W 111th St #301      Oak Lawn  60453   \n",
       "6174  Single Family Residential     4952 S Laramie Ave       Chicago  60638   \n",
       "6175  Single Family Residential        1005 W 123rd St  Calumet Park  60827   \n",
       "6176                Condo/Co-op  7234 W North Ave #605  Elmwood Park  60707   \n",
       "6177  Single Family Residential   12434 S Elizabeth St  Calumet Park  60827   \n",
       "\n",
       "       PRICE              LOCATION         SQFT     YR_BUILT        MLS#  \\\n",
       "0     150000    CHI - West Pullman  2025.422782  1890.000000    11971272   \n",
       "1      47000    CHI - West Pullman  1100.000000  1903.000000    11889116   \n",
       "2      69999    CHI - West Pullman  2250.000000  1900.000000  11938140.0   \n",
       "3     185000    CHI - West Pullman  1120.000000  1951.000000    11919204   \n",
       "4     189900    CHI - West Pullman  2025.422782  1954.535661    11919207   \n",
       "...      ...                   ...          ...          ...         ...   \n",
       "6173  129900              Oak Lawn  2025.422782  1972.000000    11944126   \n",
       "6174   99500  CHI - Garfield Ridge  2025.422782  1937.000000  11970645.0   \n",
       "6175   62500          Calumet Park  1264.000000  1954.535661  11925316.0   \n",
       "6176   73000          Elmwood Park   500.000000  1976.000000  11906747.0   \n",
       "6177   66300          Calumet Park  1177.000000  1944.000000  11880499.0   \n",
       "\n",
       "       LATITUDE  LONGITUDE  PARK_DIST  HOSPITAL_D  RAIL_DIST  BUS_COUNTS  \\\n",
       "0     41.670989 -87.637762         26        3468       7804          14   \n",
       "1     41.670992 -87.636609        146        3417       7780          12   \n",
       "2     41.673240 -87.638399         66        3197       7489          24   \n",
       "3     41.666739 -87.634544        137        3944       8371          13   \n",
       "4     41.675471 -87.627681        397        2515       7002          20   \n",
       "...         ...        ...        ...         ...        ...         ...   \n",
       "6173  41.691352 -87.730402       1413       11728      12673           0   \n",
       "6174  41.802575 -87.753289        332        8414       2932           8   \n",
       "6175  41.670262 -87.646918        391        4080       8163          12   \n",
       "6176  41.909142 -87.807799       1821        2298       3374          20   \n",
       "6177  41.667546 -87.652807        790        4804       8764           0   \n",
       "\n",
       "      FnB_COUNTS  \n",
       "0              1  \n",
       "1              1  \n",
       "2              1  \n",
       "3              0  \n",
       "4              0  \n",
       "...          ...  \n",
       "6173           0  \n",
       "6174           1  \n",
       "6175           1  \n",
       "6176           2  \n",
       "6177           0  \n",
       "\n",
       "[5154 rows x 16 columns]"
      ]
     },
     "execution_count": 31,
     "metadata": {},
     "output_type": "execute_result"
    }
   ],
   "source": [
    "import copy\n",
    "data_check = copy.deepcopy(data_df)\n",
    "\n",
    "data_check\n",
    "\n"
   ]
  },
  {
   "cell_type": "code",
   "execution_count": 32,
   "metadata": {},
   "outputs": [
    {
     "name": "stdout",
     "output_type": "stream",
     "text": [
      "PRICE 239999.0 699900.0 -449852.5 1389751.5\n",
      "SQFT 1200.0 2025.4227820372398 -38.13417305585972 3263.5569550930995\n",
      "YR_BUILT 1918.0 1991.0 1808.5 2100.5\n",
      "PARK_DIST 162.0 582.0 -468.0 1212.0\n",
      "HOSPITAL_D 1159.5 2977.25 -1567.125 5703.875\n",
      "RAIL_DIST 634.0 2610.0 -2330.0 5574.0\n",
      "BUS_COUNTS 33.0 54.0 1.5 85.5\n",
      "FnB_COUNTS 2.0 57.0 -80.5 139.5\n",
      "3277\n"
     ]
    }
   ],
   "source": [
    "for attr in num_col:\n",
    "    Q1 = data_check[attr].quantile(0.25)\n",
    "    Q3 = data_check[attr].quantile(0.75)\n",
    "    IQR = Q3 - Q1\n",
    "    lower_thresh = Q1 - 1.5 * IQR\n",
    "    upper_thresh = Q3 + 1.5 * IQR\n",
    "    print(attr, Q1, Q3, lower_thresh, upper_thresh)\n",
    "\n",
    "    # Use | for logical OR and additional parentheses for proper order of operations\n",
    "    data_check.drop(data_check[(data_check[attr] > upper_thresh) | (data_check[attr] < lower_thresh)].index, inplace=True)\n",
    "\n",
    "# Print the length of the filtered DataFrame\n",
    "print(len(data_check))\n"
   ]
  },
  {
   "cell_type": "code",
   "execution_count": 33,
   "metadata": {},
   "outputs": [],
   "source": [
    "# Export df to csv:\n",
    "\n",
    "data_check.to_csv('CHI_DATA_OUTPUT.csv')"
   ]
  }
 ],
 "metadata": {
  "kernelspec": {
   "display_name": "base",
   "language": "python",
   "name": "python3"
  },
  "language_info": {
   "codemirror_mode": {
    "name": "ipython",
    "version": 3
   },
   "file_extension": ".py",
   "mimetype": "text/x-python",
   "name": "python",
   "nbconvert_exporter": "python",
   "pygments_lexer": "ipython3",
   "version": "3.11.4"
  },
  "orig_nbformat": 4
 },
 "nbformat": 4,
 "nbformat_minor": 2
}
