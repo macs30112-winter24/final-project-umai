{
 "cells": [
  {
   "cell_type": "code",
   "execution_count": 1,
   "metadata": {},
   "outputs": [],
   "source": [
    "import requests\n",
    "import pandas as pd\n",
    "import csv\n",
    "from bs4 import BeautifulSoup\n",
    "import re"
   ]
  },
  {
   "cell_type": "code",
   "execution_count": 2,
   "metadata": {},
   "outputs": [],
   "source": [
    "# Pre-processing\n",
    "def process_community_info(url, city): \n",
    "    \"\"\"Processes community information from a list of strings.\n",
    "\n",
    "    Args:\n",
    "        community_info: A list of strings containing community information.\n",
    "        city: The name of the city to use for replacement.\n",
    "\n",
    "    Returns:\n",
    "        A list of lists, where each inner list represents grouped information for a community.\n",
    "    \"\"\"\n",
    "    response = requests.get(url)\n",
    "    soup = BeautifulSoup(response.text, \"html.parser\")\n",
    "    community_info = [row.text for row in soup.findAll('div', attrs={'class': 'hgraph'})]\n",
    "\n",
    "    result = []\n",
    "    current_neighborhood = None\n",
    "    current_list = None\n",
    "\n",
    "    for item in community_info:\n",
    "        match = re.match(r'^([^:]+):(.*)', item)\n",
    "        if match:\n",
    "            name = match.group(1)\n",
    "            content = match.group(2)\n",
    "\n",
    "            if name in ['Males', 'This neighborhood']:\n",
    "                name = current_neighborhood\n",
    "            else:\n",
    "                current_neighborhood = name\n",
    "\n",
    "            content = re.sub(r'(city|{}):.*'.format(city), '', content)\n",
    "\n",
    "            if current_list and name == current_list[0]:\n",
    "                current_list.append(content)\n",
    "            else:\n",
    "                if current_list:\n",
    "                    result.append(current_list)\n",
    "                current_list = [name, content]\n",
    "\n",
    "    if current_list:\n",
    "        result.append(current_list)\n",
    "\n",
    "    return result "
   ]
  },
  {
   "cell_type": "code",
   "execution_count": 3,
   "metadata": {},
   "outputs": [],
   "source": [
    "# Get population density & median age\n",
    "def create_neighborhood_dicts(result, city):\n",
    "    community_dicts = []\n",
    "    for neighborhood_data in result:\n",
    "        info = {}\n",
    "        info['community'] = neighborhood_data[0]\n",
    "\n",
    "        for item in neighborhood_data[1:]:\n",
    "            if 'people' in item:\n",
    "                match = re.findall(r'\\d+,\\d+', item)\n",
    "                if match:\n",
    "                    info['population.density'] = match[0].replace(',', '')  \n",
    "                else:\n",
    "                    info['population.density'] = None \n",
    "            if 'yearsFemales:' in item: \n",
    "                ages = re.findall(r'(\\d+\\.\\d+)', item)\n",
    "                if ages:  \n",
    "                    info['median.age.male'] = float(ages[0])  # Convert to float for calculation\n",
    "                    info['median.age.female'] = float(ages[1])\n",
    "\n",
    "        # Calculate median age and remove old keys\n",
    "        if 'median.age.male' in info and 'median.age.female' in info:\n",
    "            mean_age = info['median.age'] = (info['median.age.male'] + info['median.age.female']) / 2\n",
    "            info['median.age'] = \"{:.1f}\".format(mean_age)\n",
    "            del info['median.age.male']\n",
    "            del info['median.age.female']\n",
    "        \n",
    "        info['city'] = city\n",
    "        \n",
    "        community_dicts.append(info)\n",
    "    return community_dicts \n"
   ]
  },
  {
   "cell_type": "code",
   "execution_count": 18,
   "metadata": {},
   "outputs": [],
   "source": [
    "# Chicago Population density & Median age\n",
    "url = 'https://www.city-data.com/nbmaps/neigh-Chicago-Illinois.html'\n",
    "result = process_community_info(url, 'Chicago')\n",
    "Chi_neighborhood_dicts = create_neighborhood_dicts(result, 'Chicago')\n",
    "df = pd.DataFrame(Chi_neighborhood_dicts)\n",
    "df.to_csv('chi_demo1.csv', index=False) "
   ]
  },
  {
   "cell_type": "code",
   "execution_count": 19,
   "metadata": {},
   "outputs": [],
   "source": [
    "# Los Angelest City Population density & Median age\n",
    "url = 'https://www.city-data.com/nbmaps/neigh-Los-Angeles-California.html'\n",
    "result = process_community_info(url, 'Los Angeles')\n",
    "LA_neighborhood_dicts = create_neighborhood_dicts(result, 'Los Angeles City')\n",
    "df = pd.DataFrame(LA_neighborhood_dicts)\n",
    "df.to_csv('la_demo1.csv', index=False) "
   ]
  },
  {
   "cell_type": "code",
   "execution_count": 20,
   "metadata": {},
   "outputs": [],
   "source": [
    "# New York City Population density & Median age\n",
    "url = 'https://www.city-data.com/nbmaps/neigh-New-York-New-York.html'\n",
    "result = process_community_info(url, 'New York')\n",
    "NYC_neighborhood_dicts = create_neighborhood_dicts(result, 'New York City')\n",
    "df = pd.DataFrame(NYC_neighborhood_dicts)\n",
    "df.to_csv('nyc_demo1.csv', index=False) "
   ]
  },
  {
   "cell_type": "code",
   "execution_count": 23,
   "metadata": {},
   "outputs": [],
   "source": [
    "# All Population density & Median age\n",
    "chi_df = pd.DataFrame(Chi_neighborhood_dicts) \n",
    "la_df = pd.DataFrame(LA_neighborhood_dicts)\n",
    "nyc_df = pd.DataFrame(NYC_neighborhood_dicts)\n",
    "all_demo1 = pd.concat([chi_df, la_df, nyc_df], axis=0)\n",
    "all_demo1.to_csv('all_demo1.csv', index=False)"
   ]
  }
 ],
 "metadata": {
  "kernelspec": {
   "display_name": "Python 3",
   "language": "python",
   "name": "python3"
  },
  "language_info": {
   "codemirror_mode": {
    "name": "ipython",
    "version": 3
   },
   "file_extension": ".py",
   "mimetype": "text/x-python",
   "name": "python",
   "nbconvert_exporter": "python",
   "pygments_lexer": "ipython3",
   "version": "3.11.4"
  }
 },
 "nbformat": 4,
 "nbformat_minor": 2
}
